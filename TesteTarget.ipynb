{
  "nbformat": 4,
  "nbformat_minor": 0,
  "metadata": {
    "colab": {
      "provenance": []
    },
    "kernelspec": {
      "name": "python3",
      "display_name": "Python 3"
    },
    "language_info": {
      "name": "python"
    }
  },
  "cells": [
    {
      "cell_type": "markdown",
      "source": [
        "1) Observe o trecho de código abaixo: int INDICE = 13, SOMA = 0, K = 0;\n",
        "Enquanto K < INDICE faça { K = K + 1; SOMA = SOMA + K; }\n",
        "Imprimir(SOMA);\n",
        "Ao final do processamento, qual será o valor da variável SOMA?"
      ],
      "metadata": {
        "id": "rTrZQ9jfuwBp"
      }
    },
    {
      "cell_type": "code",
      "execution_count": 2,
      "metadata": {
        "colab": {
          "base_uri": "https://localhost:8080/"
        },
        "id": "G67hi6vWpphk",
        "outputId": "0758bd27-96e2-4b1e-ea56-7ad297daea38"
      },
      "outputs": [
        {
          "output_type": "stream",
          "name": "stdout",
          "text": [
            "91\n"
          ]
        }
      ],
      "source": [
        "I = 13\n",
        "SOMA = 0\n",
        "K = 0\n",
        "\n",
        "while K < I:\n",
        "    K = K + 1\n",
        "    SOMA = SOMA + K\n",
        "print(SOMA)"
      ]
    },
    {
      "cell_type": "markdown",
      "source": [
        "2) Dado a sequência de Fibonacci, onde se inicia por 0 e 1 e o próximo valor sempre será a soma dos 2 valores anteriores (exemplo: 0, 1, 1, 2, 3, 5, 8, 13, 21, 34...), escreva um programa na linguagem que desejar onde, informado um número, ele calcule a sequência de Fibonacci e retorne uma mensagem avisando se o número informado pertence ou não a sequência.\n",
        "\n",
        "IMPORTANTE: Esse número pode ser informado através de qualquer entrada de sua preferência ou pode ser previamente definido no código;"
      ],
      "metadata": {
        "id": "9IqvRrCju6NG"
      }
    },
    {
      "cell_type": "code",
      "source": [
        "def pertence_fibonacci(numero):\n",
        "    # Os dois primeiros números da sequência de Fibonacci\n",
        "    a, b = 0, 1\n",
        "    # Lista para armazenar a sequência (opcional)\n",
        "    fibonacci = [a, b]\n",
        "\n",
        "    # Caso o número seja 0 ou 1, já está na sequência\n",
        "    if numero == a or numero == b:\n",
        "        return True\n",
        "\n",
        "    # Calcula a sequência até que o próximo número seja maior ou igual ao número informado\n",
        "    while b < numero:\n",
        "        a, b = b, a + b\n",
        "        fibonacci.append(b)\n",
        "\n",
        "    # Verifica se o número está na sequência\n",
        "    return b == numero\n",
        "\n",
        "def main():\n",
        "    try:\n",
        "        # Solicita ao usuário que insira um número\n",
        "        numero = int(input(\"Digite um número para verificar se pertence à sequência de Fibonacci: \"))\n",
        "\n",
        "        if numero < 0:\n",
        "            print(\"Por favor, insira um número inteiro não negativo.\")\n",
        "            return\n",
        "\n",
        "        # Chama a função para verificar a pertença\n",
        "        if pertence_fibonacci(numero):\n",
        "            print(f\"O número {numero} pertence à sequência de Fibonacci.\")\n",
        "        else:\n",
        "            print(f\"O número {numero} NÃO pertence à sequência de Fibonacci.\")\n",
        "    except ValueError:\n",
        "        print(\"Entrada inválida! Por favor, insira um número inteiro.\")\n",
        "\n",
        "if __name__ == \"__main__\":\n",
        "    main()\n"
      ],
      "metadata": {
        "colab": {
          "base_uri": "https://localhost:8080/"
        },
        "id": "o51RZ5aWp61d",
        "outputId": "0c0c2a29-f66a-4e59-b9c5-b5c6712dbf23"
      },
      "execution_count": 10,
      "outputs": [
        {
          "output_type": "stream",
          "name": "stdout",
          "text": [
            "Digite um número para verificar se pertence à sequência de Fibonacci: 234\n",
            "O número 234 NÃO pertence à sequência de Fibonacci.\n"
          ]
        }
      ]
    },
    {
      "cell_type": "markdown",
      "source": [
        "3) Dado um vetor que guarda o valor de faturamento diário de uma distribuidora, faça um programa, na linguagem que desejar, que calcule e retorne:\n",
        "• O menor valor de faturamento ocorrido em um dia do mês;\n",
        "• O maior valor de faturamento ocorrido em um dia do mês;\n",
        "• Número de dias no mês em que o valor de faturamento diário foi superior à média mensal.\n",
        "\n",
        "IMPORTANTE:\n",
        "a) Usar o json ou xml disponível como fonte dos dados do faturamento mensal;\n",
        "b) Podem existir dias sem faturamento, como nos finais de semana e feriados. Estes dias devem ser ignorados no cálculo da média;"
      ],
      "metadata": {
        "id": "o2t4WiwQu-Ob"
      }
    },
    {
      "cell_type": "code",
      "source": [
        "import pandas as pd\n",
        "import xml.etree.ElementTree as ET\n",
        "import os\n",
        "\n",
        "def ler_csv(caminho_arquivo):\n",
        "    try:\n",
        "        df = pd.read_csv(caminho_arquivo)\n",
        "        return df\n",
        "    except Exception as e:\n",
        "        print(f\"Erro ao ler o arquivo CSV: {e}\")\n",
        "        return None\n",
        "\n",
        "def ler_json(caminho_arquivo):\n",
        "    try:\n",
        "        df = pd.read_json(caminho_arquivo)\n",
        "        print(\"Dados lidos do JSON:\")\n",
        "        print(df.head())  # Exibe as primeiras linhas para verificar a estrutura\n",
        "        return df\n",
        "    except Exception as e:\n",
        "        print(f\"Erro ao ler o arquivo JSON: {e}\")\n",
        "        return None\n",
        "\n",
        "def ler_xml(caminho_arquivo):\n",
        "    try:\n",
        "        tree = ET.parse(caminho_arquivo)\n",
        "        root = tree.getroot()\n",
        "        dados = []\n",
        "        for dia in root.findall('dia'):\n",
        "            data = dia.find('data').text\n",
        "            valor = float(dia.find('valor').text)\n",
        "            dados.append({'data': data, 'valor': valor})\n",
        "        df = pd.DataFrame(dados)\n",
        "        return df\n",
        "    except Exception as e:\n",
        "        print(f\"Erro ao ler o arquivo XML: {e}\")\n",
        "        return None\n",
        "\n",
        "def obter_dataframe(caminho_arquivo):\n",
        "    _, extensao = os.path.splitext(caminho_arquivo)\n",
        "    extensao = extensao.lower()\n",
        "\n",
        "    if extensao == '.csv':\n",
        "        return ler_csv(caminho_arquivo)\n",
        "    elif extensao == '.json':\n",
        "        return ler_json(caminho_arquivo)\n",
        "    elif extensao == '.xml':\n",
        "        return ler_xml(caminho_arquivo)\n",
        "    else:\n",
        "        print(\"Formato de arquivo não suportado. Por favor, use CSV, JSON ou XML.\")\n",
        "        return None\n",
        "\n",
        "def calcular_faturamento(df):\n",
        "    # Filtrar dias com faturamento maior que zero\n",
        "    df_com_faturamento = df[df['valor'] > 0]\n",
        "\n",
        "    if df_com_faturamento.empty:\n",
        "        print(\"Não há dias com faturamento para calcular.\")\n",
        "        return\n",
        "\n",
        "    menor_faturamento = df_com_faturamento['valor'].min()\n",
        "    maior_faturamento = df_com_faturamento['valor'].max()\n",
        "    media_faturamento = df_com_faturamento['valor'].mean()\n",
        "    dias_acima_media = df_com_faturamento[df_com_faturamento['valor'] > media_faturamento].shape[0]\n",
        "\n",
        "    print(f\"Menor faturamento no mês: R$ {menor_faturamento:.2f}\")\n",
        "    print(f\"Maior faturamento no mês: R$ {maior_faturamento:.2f}\")\n",
        "    print(f\"Número de dias com faturamento acima da média mensal (R$ {media_faturamento:.2f}): {dias_acima_media}\")\n",
        "\n",
        "def main():\n",
        "    print(\"=== Análise de Faturamento Mensal ===\")\n",
        "    caminho_arquivo = input(\"Digite o caminho completo do arquivo de faturamento (CSV, JSON, XML): \").strip()\n",
        "\n",
        "    if not os.path.isfile(caminho_arquivo):\n",
        "        print(\"Arquivo não encontrado. Por favor, verifique o caminho e tente novamente.\")\n",
        "        return\n",
        "\n",
        "    df = obter_dataframe(caminho_arquivo)\n",
        "\n",
        "    if df is None:\n",
        "        print(\"Erro ao processar o arquivo. Certifique-se de que o formato está correto.\")\n",
        "        return\n",
        "\n",
        "    # Verificar se as colunas necessárias existem\n",
        "    print(\"Colunas disponíveis no DataFrame:\", df.columns.tolist())  # Depuração\n",
        "    if not {'dia', 'valor'}.issubset(df.columns):\n",
        "        print(\"O arquivo deve conter as colunas 'dia' e 'valor'.\")\n",
        "        return\n",
        "\n",
        "    # Converter a coluna 'valor' para numérico, se necessário\n",
        "    df['valor'] = pd.to_numeric(df['valor'], errors='coerce')\n",
        "\n",
        "    # Remover linhas com valores NaN na coluna 'valor'\n",
        "    df = df.dropna(subset=['valor'])\n",
        "\n",
        "    calcular_faturamento(df)\n",
        "\n",
        "if __name__ == \"__main__\":\n",
        "    main()\n"
      ],
      "metadata": {
        "colab": {
          "base_uri": "https://localhost:8080/"
        },
        "id": "tvzlBxOwqtbD",
        "outputId": "6ae6bd2d-69ef-4f40-c8c5-06e349e36d15"
      },
      "execution_count": 20,
      "outputs": [
        {
          "output_type": "stream",
          "name": "stdout",
          "text": [
            "=== Análise de Faturamento Mensal ===\n",
            "Digite o caminho completo do arquivo de faturamento (CSV, JSON, XML): dados.json\n",
            "Dados lidos do JSON:\n",
            "   dia       valor\n",
            "0    1  22174.1664\n",
            "1    2  24537.6698\n",
            "2    3  26139.6134\n",
            "3    4      0.0000\n",
            "4    5      0.0000\n",
            "Colunas disponíveis no DataFrame: ['dia', 'valor']\n",
            "Menor faturamento no mês: R$ 373.78\n",
            "Maior faturamento no mês: R$ 48924.24\n",
            "Número de dias com faturamento acima da média mensal (R$ 20865.37): 10\n"
          ]
        }
      ]
    },
    {
      "cell_type": "markdown",
      "source": [
        "4) Dado o valor de faturamento mensal de uma distribuidora, detalhado por estado:\n",
        "\n",
        "• SP – R$67.836,43\n",
        "\n",
        "• RJ – R$36.678,66\n",
        "\n",
        "• MG – R$29.229,88\n",
        "\n",
        "• ES – R$27.165,48\n",
        "\n",
        "• Outros – R$19.849,53\n",
        "\n",
        "Escreva um programa na linguagem que desejar onde calcule o percentual de representação que cada estado teve dentro do valor total mensal da distribuidora."
      ],
      "metadata": {
        "id": "H_Lgg5BMvBhl"
      }
    },
    {
      "cell_type": "code",
      "source": [
        "# Define o faturamento por estado\n",
        "faturamento = {\n",
        "    'SP': 67836.43,    # São Paulo\n",
        "    'RJ': 36678.66,    # Rio de Janeiro\n",
        "    'MG': 29229.88,    # Minas Gerais\n",
        "    'ES': 27165.48,    # Espírito Santo\n",
        "    'Outros': 19849.53  # Outros estados\n",
        "}\n",
        "\n",
        "# Calcula o faturamento total somando todos os valores\n",
        "faturamento_total = sum(faturamento.values())\n",
        "\n",
        "# Inicializa um dicionário para armazenar os percentuais\n",
        "percentuais = {}\n",
        "\n",
        "# Itera sobre cada estado e seu faturamento para calcular o percentual\n",
        "for estado, valor in faturamento.items():\n",
        "    percentual = (valor / faturamento_total) * 100  # Calcula o percentual\n",
        "    percentuais[estado] = percentual              # Armazena no dicionário\n",
        "\n",
        "# Exibe os resultados de forma formatada\n",
        "print(\"Percentual de representação por estado no faturamento mensal:\")\n",
        "print(\"-\" * 60)  # Linha separadora\n",
        "for estado, percentual in percentuais.items():\n",
        "    print(f\"{estado}: {percentual:.2f}%\")  # Imprime o estado e seu percentual\n",
        "print(\"-\" * 60)  # Linha separadora\n",
        "print(f\"Faturamento Total: R$ {faturamento_total:,.2f}\")  # Imprime o faturamento total\n"
      ],
      "metadata": {
        "colab": {
          "base_uri": "https://localhost:8080/"
        },
        "id": "eB3goFP_sKV6",
        "outputId": "335fddb2-0bc2-4cf0-887f-5f34414cf30a"
      },
      "execution_count": 21,
      "outputs": [
        {
          "output_type": "stream",
          "name": "stdout",
          "text": [
            "Percentual de representação por estado no faturamento mensal:\n",
            "------------------------------------------------------------\n",
            "SP: 37.53%\n",
            "RJ: 20.29%\n",
            "MG: 16.17%\n",
            "ES: 15.03%\n",
            "Outros: 10.98%\n",
            "------------------------------------------------------------\n",
            "Faturamento Total: R$ 180,759.98\n"
          ]
        }
      ]
    },
    {
      "cell_type": "code",
      "source": [
        "def inverter_string_iterativo(string_original):\n",
        "    string_invertida = \"\"  # Inicializa a string invertida vazia\n",
        "    comprimento = len(string_original)\n",
        "\n",
        "    # Itera do último caractere até o primeiro\n",
        "    for i in range(comprimento - 1, -1, -1):\n",
        "        string_invertida += string_original[i]\n",
        "\n",
        "    return string_invertida\n",
        "\n",
        "def main():\n",
        "    # Opção 1: Entrada do usuário\n",
        "    string = input(\"Digite a string que deseja inverter: \")\n",
        "\n",
        "    # Opção 2: String pré-definida (descomente a linha abaixo para usar)\n",
        "    # string = \"Exemplo de String\"\n",
        "\n",
        "    resultado = inverter_string_iterativo(string)\n",
        "    print(f\"String invertida: {resultado}\")\n",
        "\n",
        "if __name__ == \"__main__\":\n",
        "    main()\n"
      ],
      "metadata": {
        "colab": {
          "base_uri": "https://localhost:8080/"
        },
        "id": "ZEHIwZVLvP4b",
        "outputId": "aa28db47-74c1-4046-9812-f825639b7ab1"
      },
      "execution_count": 23,
      "outputs": [
        {
          "output_type": "stream",
          "name": "stdout",
          "text": [
            "Digite a string que deseja inverter: paralelepípedo\n",
            "String invertida: odepípelelarap\n"
          ]
        }
      ]
    },
    {
      "cell_type": "code",
      "source": [],
      "metadata": {
        "id": "uHdqPNRSvvRg"
      },
      "execution_count": null,
      "outputs": []
    }
  ]
}